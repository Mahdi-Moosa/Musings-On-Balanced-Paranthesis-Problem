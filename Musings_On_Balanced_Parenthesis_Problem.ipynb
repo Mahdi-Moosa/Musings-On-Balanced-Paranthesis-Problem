{
 "cells": [
  {
   "cell_type": "markdown",
   "id": "ae6f6725",
   "metadata": {},
   "source": [
    "Stack Implementation from GeekForGeeks\n",
    "\n",
    "https://www.geeksforgeeks.org/check-for-balanced-parentheses-in-python/\n"
   ]
  },
  {
   "cell_type": "code",
   "execution_count": 1,
   "id": "fb76af62",
   "metadata": {},
   "outputs": [
    {
     "data": {
      "text/plain": [
       "True"
      ]
     },
     "execution_count": 1,
     "metadata": {},
     "output_type": "execute_result"
    }
   ],
   "source": [
    "s = \"[({})]\"\n",
    "\n",
    "def isValid( s: str) -> bool:\n",
    "    if len(s) % 2 !=0:\n",
    "        return False\n",
    "    par_dict = {'(':')', '[':']', '{':'}'}\n",
    "    opening_parenthesis = ['{', '[', '(']\n",
    "    closing_parenthesis = [')', '}', ']']\n",
    "    temp_stack = list()\n",
    "    for i in s:\n",
    "        if i in opening_parenthesis:\n",
    "            temp_stack.append(par_dict[i])\n",
    "        elif i in closing_parenthesis:\n",
    "            if len(temp_stack) == 0:\n",
    "                print('Len is zero')\n",
    "                return False\n",
    "            elif temp_stack.pop(-1) != i:\n",
    "                return False\n",
    "    if len(temp_stack) == 0:\n",
    "        return True\n",
    "    else:\n",
    "        return False\n",
    "\n",
    "isValid(s)"
   ]
  },
  {
   "cell_type": "markdown",
   "id": "2f4e0f03",
   "metadata": {},
   "source": [
    "String Replace Implementation"
   ]
  },
  {
   "cell_type": "code",
   "execution_count": 2,
   "id": "0e5621e5",
   "metadata": {},
   "outputs": [
    {
     "data": {
      "text/plain": [
       "False"
      ]
     },
     "execution_count": 2,
     "metadata": {},
     "output_type": "execute_result"
    }
   ],
   "source": [
    "s = '[({})]'\n",
    "def parenthesis_check_by_string_replace(s:str) -> bool:\n",
    "    parenthesis_strings = ['()', '{}', '[]']\n",
    "    for paired_parenthesis in parenthesis_strings:\n",
    "        s = s.replace(paired_parenthesis, '')\n",
    "    if len(s) == 0:\n",
    "        return True\n",
    "    else:\n",
    "        return False\n",
    "\n",
    "parenthesis_check_by_string_replace(s)"
   ]
  },
  {
   "cell_type": "markdown",
   "id": "e8ba5843",
   "metadata": {},
   "source": [
    "Modified Stack Implementation Accounting for Parenthesis Order"
   ]
  },
  {
   "cell_type": "code",
   "execution_count": 3,
   "id": "f3624a38",
   "metadata": {},
   "outputs": [
    {
     "name": "stdout",
     "output_type": "stream",
     "text": [
      "Parenthesis order mismatch for {\n"
     ]
    },
    {
     "data": {
      "text/plain": [
       "False"
      ]
     },
     "execution_count": 3,
     "metadata": {},
     "output_type": "execute_result"
    }
   ],
   "source": [
    "s = \"[({})]\"\n",
    "\n",
    "def isValid( s: str) -> bool:\n",
    "    if len(s) % 2 !=0:\n",
    "        return False\n",
    "    par_dict = {'(':')', '[':']', '{':'}'}\n",
    "    opening_parenthesis = ['{', '[', '(']\n",
    "    closing_parenthesis = [')', '}', ']']\n",
    "    temp_stack = list()\n",
    "    for i in s:\n",
    "        if i in opening_parenthesis:\n",
    "            if len(temp_stack) == 0:\n",
    "                temp_stack.append(par_dict[i])\n",
    "            elif i == '[':\n",
    "                print(f'Parenthesis order mismatch for {i}')\n",
    "                if ')' or '}' in temp_stack:\n",
    "                    return False\n",
    "            elif i == '{':\n",
    "                print(f'Parenthesis order mismatch for {i}')\n",
    "                if ')' in temp_stack:\n",
    "                    return False\n",
    "            else:\n",
    "                temp_stack.append(par_dict[i])\n",
    "        elif i in closing_parenthesis:\n",
    "            if len(temp_stack) == 0:\n",
    "                print('Len is zero')\n",
    "                return False\n",
    "            elif temp_stack.pop(-1) != i:\n",
    "                return False\n",
    "    if len(temp_stack) == 0:\n",
    "        return True\n",
    "    else:\n",
    "        return False\n",
    "\n",
    "isValid(s)"
   ]
  },
  {
   "cell_type": "code",
   "execution_count": null,
   "id": "97dc9862",
   "metadata": {},
   "outputs": [],
   "source": []
  }
 ],
 "metadata": {
  "kernelspec": {
   "display_name": "Python 3 (ipykernel)",
   "language": "python",
   "name": "python3"
  },
  "language_info": {
   "codemirror_mode": {
    "name": "ipython",
    "version": 3
   },
   "file_extension": ".py",
   "mimetype": "text/x-python",
   "name": "python",
   "nbconvert_exporter": "python",
   "pygments_lexer": "ipython3",
   "version": "3.7.13"
  }
 },
 "nbformat": 4,
 "nbformat_minor": 5
}
